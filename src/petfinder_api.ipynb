{
 "metadata": {
  "language_info": {
   "codemirror_mode": {
    "name": "ipython",
    "version": 3
   },
   "file_extension": ".py",
   "mimetype": "text/x-python",
   "name": "python",
   "nbconvert_exporter": "python",
   "pygments_lexer": "ipython3",
   "version": "3.8.2"
  },
  "orig_nbformat": 4,
  "kernelspec": {
   "name": "python3",
   "display_name": "Python 3.8.2 64-bit ('base': conda)"
  },
  "interpreter": {
   "hash": "f6bdf78043db99d935f40f61a24bf6e40a19bb6491673070e840ece9dc443399"
  }
 },
 "nbformat": 4,
 "nbformat_minor": 2,
 "cells": [
  {
   "cell_type": "code",
   "execution_count": 1,
   "metadata": {},
   "outputs": [],
   "source": [
    "\n",
    "import petpy\n",
    "import pandas as pd\n",
    "import urllib.request\n",
    "from urllib.error import HTTPError\n",
    "import time\n",
    "from datetime import date\n",
    "import os\n",
    "from tqdm import tqdm_notebook\n",
    "from ast import literal_eval\n",
    "from multiprocessing.pool import ThreadPool\n",
    "import re"
   ]
  },
  {
   "cell_type": "code",
   "execution_count": 70,
   "metadata": {},
   "outputs": [],
   "source": [
    "# Replace xx with API key and secret\n",
    "try:\n",
    "    pf = petpy.Petfinder(key='Wh02Nn81tRMs4bVGMniq7f1KTNgFtPt8wCysKomBw4Bazpbqu8', \n",
    "                            secret='1033sFI9b2sgwvuQ9Q0sZKB7EjBvLQMpdLPbI86n')\n",
    "    pf.breeds('dog')\n",
    "except KeyError:\n",
    "    pf = petpy.Petfinder(key='3iO98SzI9gtLCHpYVvl1KQJJR12pMz7WmK6f2K9QW2ErpXvDTu', \n",
    "                            secret='Vly6Ij9qJT9DYfgRI1AoemBOAHV2UVKV755sIgY0')\n",
    "    "
   ]
  },
  {
   "cell_type": "code",
   "execution_count": 53,
   "metadata": {},
   "outputs": [],
   "source": [
    "today_only = False"
   ]
  },
  {
   "cell_type": "code",
   "execution_count": 15,
   "metadata": {},
   "outputs": [
    {
     "output_type": "error",
     "ename": "AttributeError",
     "evalue": "module 'petpy' has no attribute 'status'",
     "traceback": [
      "\u001b[0;31m---------------------------------------------------------------------------\u001b[0m",
      "\u001b[0;31mAttributeError\u001b[0m                            Traceback (most recent call last)",
      "\u001b[0;32m<ipython-input-15-d7a90478c29d>\u001b[0m in \u001b[0;36m<module>\u001b[0;34m\u001b[0m\n\u001b[0;32m----> 1\u001b[0;31m \u001b[0mpetpy\u001b[0m\u001b[0;34m.\u001b[0m\u001b[0mstatus\u001b[0m\u001b[0;34m\u001b[0m\u001b[0;34m\u001b[0m\u001b[0m\n\u001b[0m",
      "\u001b[0;31mAttributeError\u001b[0m: module 'petpy' has no attribute 'status'"
     ]
    }
   ],
   "source": [
    "petpy.status"
   ]
  },
  {
   "cell_type": "code",
   "execution_count": 16,
   "metadata": {},
   "outputs": [],
   "source": [
    "breeds = pf.breeds('dog', return_df=True).name"
   ]
  },
  {
   "cell_type": "code",
   "execution_count": 73,
   "metadata": {},
   "outputs": [
    {
     "output_type": "execute_result",
     "data": {
      "text/plain": [
       "<petpy.api.Petfinder at 0x7fab53e85520>"
      ]
     },
     "metadata": {},
     "execution_count": 73
    }
   ],
   "source": [
    "pf\n"
   ]
  },
  {
   "cell_type": "code",
   "execution_count": 5,
   "metadata": {},
   "outputs": [
    {
     "output_type": "execute_result",
     "data": {
      "text/plain": [
       "0                          Affenpinscher\n",
       "1                           Afghan Hound\n",
       "2                       Airedale Terrier\n",
       "3                                 Akbash\n",
       "4                                  Akita\n",
       "                     ...                \n",
       "270          Wirehaired Pointing Griffon\n",
       "271                   Wirehaired Terrier\n",
       "272    Xoloitzcuintli / Mexican Hairless\n",
       "273            Yellow Labrador Retriever\n",
       "274                    Yorkshire Terrier\n",
       "Name: name, Length: 275, dtype: object"
      ]
     },
     "metadata": {},
     "execution_count": 5
    }
   ],
   "source": [
    "breeds"
   ]
  },
  {
   "cell_type": "code",
   "execution_count": 61,
   "metadata": {
    "tags": []
   },
   "outputs": [
    {
     "output_type": "stream",
     "name": "stdout",
     "text": [
      "Affenpinscher 19\n",
      "Airedale Terrier 7\n",
      "Akita 16\n",
      "Alaskan Malamute 15\n",
      "American Bulldog 20\n",
      "American Bully 20\n",
      "American Staffordshire Terrier 18\n",
      "Anatolian Shepherd 19\n",
      "Australian Cattle Dog / Blue Heeler 20\n",
      "Australian Kelpie 20\n",
      "Australian Shepherd 18\n",
      "Basenji 10\n",
      "Basset Hound 20\n",
      "Beagle 19\n",
      "Belgian Shepherd / Malinois 20\n",
      "Black and Tan Coonhound 20\n",
      "Black Labrador Retriever 17\n",
      "Black Mouth Cur 18\n",
      "Bloodhound 20\n",
      "Blue Lacy 10\n",
      "Bluetick Coonhound 20\n",
      "Border Collie 19\n",
      "Border Terrier 16\n",
      "Boston Terrier 19\n",
      "Boxer 19\n",
      "Brittany Spaniel 8\n",
      "Bull Terrier 20\n",
      "Cairn Terrier 19\n",
      "Cane Corso 19\n",
      "Cardigan Welsh Corgi 7\n",
      "Carolina Dog 16\n",
      "Catahoula Leopard Dog 19\n",
      "Cattle Dog 19\n",
      "Chesapeake Bay Retriever 10\n",
      "Chihuahua 18\n",
      "Chiweenie 20\n",
      "Chocolate Labrador Retriever 18\n",
      "Chow Chow 20\n",
      "Cocker Spaniel 20\n",
      "Collie 18\n",
      "Coonhound 18\n",
      "Corgi 20\n",
      "Dachshund 19\n",
      "Dalmatian 20\n",
      "Doberman Pinscher 20\n",
      "Dutch Shepherd 20\n",
      "English Bulldog 20\n",
      "English Coonhound 8\n",
      "English Pointer 13\n",
      "Feist 20\n",
      "Flat-Coated Retriever 8\n",
      "Fox Terrier 11\n",
      "Foxhound 11\n",
      "French Bulldog 11\n",
      "German Shepherd Dog 19\n",
      "German Shorthaired Pointer 19\n",
      "Golden Retriever 20\n",
      "Great Dane 18\n",
      "Great Pyrenees 19\n",
      "Greyhound 14\n",
      "Hound 17\n",
      "Husky 20\n",
      "Italian Greyhound 17\n",
      "Jack Russell Terrier 20\n",
      "Jindo 20\n",
      "Labradoodle 12\n",
      "Labrador Retriever 19\n",
      "Lurcher 6\n",
      "Maltese 16\n",
      "Manchester Terrier 20\n",
      "Mastiff 19\n",
      "Miniature Pinscher 19\n",
      "Miniature Poodle 7\n",
      "Mixed Breed 17\n",
      "Mountain Cur 19\n",
      "Mountain Dog 16\n",
      "Neapolitan Mastiff 6\n",
      "Norwegian Elkhound 7\n",
      "Papillon 12\n",
      "Parson Russell Terrier 15\n",
      "Pit Bull Terrier 15\n",
      "Plott Hound 18\n",
      "Pointer 20\n",
      "Pomeranian 20\n",
      "Poodle 20\n",
      "Pug 18\n",
      "Rat Terrier 20\n",
      "Redbone Coonhound 17\n",
      "Retriever 20\n",
      "Rhodesian Ridgeback 19\n",
      "Rottweiler 20\n",
      "Saint Bernard 20\n",
      "Saluki 9\n",
      "Schipperke 8\n",
      "Schnauzer 18\n",
      "Scottish Terrier 6\n",
      "Setter 11\n",
      "Shar-Pei 20\n",
      "Sheep Dog 12\n",
      "Shepherd 15\n",
      "Shetland Sheepdog / Sheltie 10\n",
      "Shiba Inu 19\n",
      "Shih Tzu 19\n",
      "Siberian Husky 15\n",
      "Spaniel 20\n",
      "Spitz 8\n",
      "Staffordshire Bull Terrier 20\n",
      "Terrier 16\n",
      "Treeing Walker Coonhound 19\n",
      "Vizsla 18\n",
      "Weimaraner 19\n",
      "Whippet 19\n",
      "Wirehaired Dachshund 7\n",
      "Wirehaired Terrier 13\n",
      "Yellow Labrador Retriever 20\n",
      "Yorkshire Terrier 19\n"
     ]
    }
   ],
   "source": [
    "import json\n",
    "full_puppy_list = []\n",
    "for breed in breeds.values:\n",
    "    puppy_list = [{'id': x['id'], 'breed': breed, 'photo': x['primary_photo_cropped']['large']} for x in pf.animals(animal_type='dog',age='baby', breed=breed)['animals'] if (x['primary_photo_cropped'] != []) and (x['primary_photo_cropped'] != None)]\n",
    "    if len(puppy_list) > 5:\n",
    "        print(breed, len(puppy_list))\n",
    "        full_puppy_list += puppy_list\n",
    "\n",
    "with open('../data/full_puppy_list.json', 'w') as outfile:\n",
    "    json.dump(full_puppy_list, outfile)\n",
    "\n",
    "\n",
    "#     print(breed, len(puppy_list))\n",
    "#     [for i in x ]\n",
    "# # (x[0]['photos'])\n",
    "# breed_list\n",
    "#  breed_list \n",
    "# x = [{'id': x['id'], 'breed': breed, 'photo': x['primary_photo_cropped']['large']} for x in pf.animals(animal_type='dog',age='baby', breed='Mixed Breed')['animals'] if (x['primary_photo_cropped'] != []) and (x['primary_photo_cropped'] != None)]\n",
    "# x + x"
   ]
  },
  {
   "cell_type": "code",
   "execution_count": 79,
   "metadata": {},
   "outputs": [
    {
     "output_type": "execute_result",
     "data": {
      "text/plain": [
       "5433"
      ]
     },
     "metadata": {},
     "execution_count": 79
    }
   ],
   "source": [
    "with open ('../data/full_puppy_list_100perpage.json', 'r') as f:\n",
    "    fpl = json.load(f) \n",
    "len(fpl)"
   ]
  },
  {
   "cell_type": "code",
   "execution_count": 80,
   "metadata": {},
   "outputs": [
    {
     "output_type": "execute_result",
     "data": {
      "text/plain": [
       "4657"
      ]
     },
     "metadata": {},
     "execution_count": 80
    }
   ],
   "source": [
    "check_unique = set()\n",
    "for puppy in fpl:\n",
    "    check_unique.add(puppy['id'])\n",
    "len(check_unique)"
   ]
  },
  {
   "cell_type": "code",
   "execution_count": 54,
   "metadata": {},
   "outputs": [
    {
     "output_type": "stream",
     "text": [
      "\u001b[0;31mSignature:\u001b[0m\n",
      "\u001b[0mpf\u001b[0m\u001b[0;34m.\u001b[0m\u001b[0manimals\u001b[0m\u001b[0;34m(\u001b[0m\u001b[0;34m\u001b[0m\n",
      "\u001b[0;34m\u001b[0m    \u001b[0manimal_id\u001b[0m\u001b[0;34m=\u001b[0m\u001b[0;32mNone\u001b[0m\u001b[0;34m,\u001b[0m\u001b[0;34m\u001b[0m\n",
      "\u001b[0;34m\u001b[0m    \u001b[0manimal_type\u001b[0m\u001b[0;34m=\u001b[0m\u001b[0;32mNone\u001b[0m\u001b[0;34m,\u001b[0m\u001b[0;34m\u001b[0m\n",
      "\u001b[0;34m\u001b[0m    \u001b[0mbreed\u001b[0m\u001b[0;34m=\u001b[0m\u001b[0;32mNone\u001b[0m\u001b[0;34m,\u001b[0m\u001b[0;34m\u001b[0m\n",
      "\u001b[0;34m\u001b[0m    \u001b[0msize\u001b[0m\u001b[0;34m=\u001b[0m\u001b[0;32mNone\u001b[0m\u001b[0;34m,\u001b[0m\u001b[0;34m\u001b[0m\n",
      "\u001b[0;34m\u001b[0m    \u001b[0mgender\u001b[0m\u001b[0;34m=\u001b[0m\u001b[0;32mNone\u001b[0m\u001b[0;34m,\u001b[0m\u001b[0;34m\u001b[0m\n",
      "\u001b[0;34m\u001b[0m    \u001b[0mage\u001b[0m\u001b[0;34m=\u001b[0m\u001b[0;32mNone\u001b[0m\u001b[0;34m,\u001b[0m\u001b[0;34m\u001b[0m\n",
      "\u001b[0;34m\u001b[0m    \u001b[0mcolor\u001b[0m\u001b[0;34m=\u001b[0m\u001b[0;32mNone\u001b[0m\u001b[0;34m,\u001b[0m\u001b[0;34m\u001b[0m\n",
      "\u001b[0;34m\u001b[0m    \u001b[0mcoat\u001b[0m\u001b[0;34m=\u001b[0m\u001b[0;32mNone\u001b[0m\u001b[0;34m,\u001b[0m\u001b[0;34m\u001b[0m\n",
      "\u001b[0;34m\u001b[0m    \u001b[0mstatus\u001b[0m\u001b[0;34m=\u001b[0m\u001b[0;32mNone\u001b[0m\u001b[0;34m,\u001b[0m\u001b[0;34m\u001b[0m\n",
      "\u001b[0;34m\u001b[0m    \u001b[0mname\u001b[0m\u001b[0;34m=\u001b[0m\u001b[0;32mNone\u001b[0m\u001b[0;34m,\u001b[0m\u001b[0;34m\u001b[0m\n",
      "\u001b[0;34m\u001b[0m    \u001b[0morganization_id\u001b[0m\u001b[0;34m=\u001b[0m\u001b[0;32mNone\u001b[0m\u001b[0;34m,\u001b[0m\u001b[0;34m\u001b[0m\n",
      "\u001b[0;34m\u001b[0m    \u001b[0mlocation\u001b[0m\u001b[0;34m=\u001b[0m\u001b[0;32mNone\u001b[0m\u001b[0;34m,\u001b[0m\u001b[0;34m\u001b[0m\n",
      "\u001b[0;34m\u001b[0m    \u001b[0mdistance\u001b[0m\u001b[0;34m=\u001b[0m\u001b[0;32mNone\u001b[0m\u001b[0;34m,\u001b[0m\u001b[0;34m\u001b[0m\n",
      "\u001b[0;34m\u001b[0m    \u001b[0mgood_with_children\u001b[0m\u001b[0;34m=\u001b[0m\u001b[0;32mNone\u001b[0m\u001b[0;34m,\u001b[0m\u001b[0;34m\u001b[0m\n",
      "\u001b[0;34m\u001b[0m    \u001b[0mgood_with_dogs\u001b[0m\u001b[0;34m=\u001b[0m\u001b[0;32mNone\u001b[0m\u001b[0;34m,\u001b[0m\u001b[0;34m\u001b[0m\n",
      "\u001b[0;34m\u001b[0m    \u001b[0mgood_with_cats\u001b[0m\u001b[0;34m=\u001b[0m\u001b[0;32mNone\u001b[0m\u001b[0;34m,\u001b[0m\u001b[0;34m\u001b[0m\n",
      "\u001b[0;34m\u001b[0m    \u001b[0mhouse_trained\u001b[0m\u001b[0;34m=\u001b[0m\u001b[0;32mNone\u001b[0m\u001b[0;34m,\u001b[0m\u001b[0;34m\u001b[0m\n",
      "\u001b[0;34m\u001b[0m    \u001b[0mdeclawed\u001b[0m\u001b[0;34m=\u001b[0m\u001b[0;32mNone\u001b[0m\u001b[0;34m,\u001b[0m\u001b[0;34m\u001b[0m\n",
      "\u001b[0;34m\u001b[0m    \u001b[0mspecial_needs\u001b[0m\u001b[0;34m=\u001b[0m\u001b[0;32mNone\u001b[0m\u001b[0;34m,\u001b[0m\u001b[0;34m\u001b[0m\n",
      "\u001b[0;34m\u001b[0m    \u001b[0mbefore_date\u001b[0m\u001b[0;34m=\u001b[0m\u001b[0;32mNone\u001b[0m\u001b[0;34m,\u001b[0m\u001b[0;34m\u001b[0m\n",
      "\u001b[0;34m\u001b[0m    \u001b[0mafter_date\u001b[0m\u001b[0;34m=\u001b[0m\u001b[0;32mNone\u001b[0m\u001b[0;34m,\u001b[0m\u001b[0;34m\u001b[0m\n",
      "\u001b[0;34m\u001b[0m    \u001b[0msort\u001b[0m\u001b[0;34m=\u001b[0m\u001b[0;32mNone\u001b[0m\u001b[0;34m,\u001b[0m\u001b[0;34m\u001b[0m\n",
      "\u001b[0;34m\u001b[0m    \u001b[0mpages\u001b[0m\u001b[0;34m=\u001b[0m\u001b[0;36m1\u001b[0m\u001b[0;34m,\u001b[0m\u001b[0;34m\u001b[0m\n",
      "\u001b[0;34m\u001b[0m    \u001b[0mresults_per_page\u001b[0m\u001b[0;34m=\u001b[0m\u001b[0;36m20\u001b[0m\u001b[0;34m,\u001b[0m\u001b[0;34m\u001b[0m\n",
      "\u001b[0;34m\u001b[0m    \u001b[0mreturn_df\u001b[0m\u001b[0;34m=\u001b[0m\u001b[0;32mFalse\u001b[0m\u001b[0;34m,\u001b[0m\u001b[0;34m\u001b[0m\n",
      "\u001b[0;34m\u001b[0m\u001b[0;34m)\u001b[0m\u001b[0;34m\u001b[0m\u001b[0;34m\u001b[0m\u001b[0m\n",
      "\u001b[0;31mDocstring:\u001b[0m\n",
      "Returns adoptable animal data from Petfinder based on specified criteria.\n",
      "\n",
      "Parameters\n",
      "----------\n",
      "animal_id : int, tuple or list of int, optional\n",
      "    Integer or list or tuple of integers representing animal IDs obtained from Petfinder. When\n",
      "    :code:`animal_id` is specified, the other function parameters are overridden. If :code:`animal_id`\n",
      "    is not specified, a search of animals on Petfinder matching given criteria is performed.\n",
      "animal_type : {'dog', 'cat', 'rabbit', 'small-furry', 'horse', 'bird', 'scales-fins-other', 'barnyard'}, str, optional\n",
      "    String representing desired animal type to search. Must be one of 'dog', 'cat', 'rabbit', 'small-furry',\n",
      "    'horse', 'bird', 'scales-fins-other', or 'barnyard'.\n",
      "breed: str, tuple or list of str, optional\n",
      "    String or tuple or list of strings of desired animal type breed to search. Available animal breeds in\n",
      "    the Petfinder database can be found using the :code:`breeds()` method.\n",
      "size: {'small', 'medium', 'large', 'xlarge'}, str, tuple or list of str, optional\n",
      "    String or tuple or list of strings of desired animal sizes to return. The specified size(s) must be one\n",
      "    of 'small', 'medium', 'large', or 'xlarge'.\n",
      "gender : {'male', 'female', 'unknown'} str, tuple or list of str, optional\n",
      "    String or tuple or list of strings representing animal genders to return. Must be of 'male', 'female',\n",
      "    or 'unknown'.\n",
      "age : {'baby', 'young', 'adult', 'senior'} str, tuple or list of str, optional\n",
      "    String or tuple or list of strings specifying animal age(s) to return from search. Must be of 'baby',\n",
      "    'young', 'adult', 'senior'.\n",
      "color : str, optional\n",
      "    String representing specified animal 'color' to search. Colors for each available animal type in the\n",
      "    Petfinder database can be found using the :code:`animal_types()` method.\n",
      "coat : {'short', 'medium', 'long', 'wire', 'hairless', 'curly'}, str, tuple or list of str, optional\n",
      "    Desired coat(s) to return. Must be of 'short', 'medium', 'long', 'wire', 'hairless', or 'curly'.\n",
      "status : {'adoptable', 'adopted', 'found'} str, optional\n",
      "    Animal status to filter search results. Must be one of 'adoptable', 'adopted', or 'found'.\n",
      "name : str, optional\n",
      "    Searches for animal names matching or partially matching name.\n",
      "organization_id : str, tuple or list of str, optional\n",
      "    Returns animals associated with given :code:`organization_id`. Can be a str or a tuple or list of str\n",
      "    representing multiple organizations.\n",
      "location : str, optional\n",
      "    Returns results by specified location. Must be in the format 'city, state' for city-level results,\n",
      "    'latitude, longitude' for lat-long results, or 'postal code'.\n",
      "distance : int, optional\n",
      "    Returns results within the distance of the specified location. If not given, defaults to 100 miles.\n",
      "    Maximum distance range is 500 miles.\n",
      "good_with_children : bool, optional\n",
      "good_with_cats : bool, optional\n",
      "good_with_dogs : bool, optional\n",
      "declawed : bool, optional\n",
      "special_needs : bool, optional\n",
      "house_trained : bool, optional\n",
      "before_date : str, datetime\n",
      "after_date : str, datetime\n",
      "sort : {'recent', '-recent', 'distance', '-distance'}, optional\n",
      "    Sorts by specified attribute. Leading dashes represents a reverse-order sort. Must be one of 'recent',\n",
      "    '-recent', 'distance', or '-distance'.\n",
      "pages : int, default 1\n",
      "    Specifies which page of results to return. Defaults to the first page of results. If set to :code:`None`,\n",
      "    all results will be returned.\n",
      "results_per_page : int, default 20\n",
      "    Number of results to return per page. Defaults to 20 results and cannot exceed 100 results per page.\n",
      "return_df : boolean, default False\n",
      "    If :code:`True`, the results will be coerced into a pandas DataFrame.\n",
      "\n",
      "Returns\n",
      "-------\n",
      "dict or pandas DataFrame\n",
      "    Dictionary object representing the returned JSON object from the Petfinder API. If :code:`return_df=True`,\n",
      "    the results are returned as a pandas DataFrame.\n",
      "\n",
      "Examples\n",
      "--------\n",
      "# Create an authenticated connection to the Petfinder API.\n",
      ">>> pf = Petfinder(key=key, secret=secret)\n",
      "# Getting first 20 results without any search criteria\n",
      ">>> animals = pf.animals()\n",
      "# Extracting data on specific animals with animal_ids\n",
      ">>> animal_ids = []\n",
      ">>> for i in animals['animals'][0:3]:\n",
      ">>>    animal_ids.append(i['id'])\n",
      ">>> animal_data = pf.animals(animal_id=animal_ids)\n",
      "# Returning a pandas DataFrame of the first 150 animal results\n",
      ">>> animals = pf.animals(results_per_page=50, pages=3, return_df=True)\n",
      "\u001b[0;31mFile:\u001b[0m      ~/opt/anaconda3/lib/python3.8/site-packages/petpy/api.py\n",
      "\u001b[0;31mType:\u001b[0m      method\n"
     ],
     "name": "stdout"
    }
   ],
   "source": [
    "pf.animals?"
   ]
  },
  {
   "cell_type": "code",
   "execution_count": 49,
   "metadata": {},
   "outputs": [
    {
     "output_type": "execute_result",
     "data": {
      "text/plain": [
       "9741"
      ]
     },
     "metadata": {},
     "execution_count": 49
    }
   ],
   "source": [
    "puppy_pics = [(photos['id'],photos['breeds']['primary'],photos['photos'][0]['large']) for photos in pf.animals(animal_type='dog',age='baby', pages=500)['animals'] if photos['photos'] != []]\n",
    "len(puppy_pics)"
   ]
  },
  {
   "cell_type": "code",
   "execution_count": 50,
   "metadata": {},
   "outputs": [
    {
     "output_type": "execute_result",
     "data": {
      "text/plain": [
       "9741"
      ]
     },
     "metadata": {},
     "execution_count": 50
    }
   ],
   "source": [
    "len(puppy_pics)\n"
   ]
  },
  {
   "cell_type": "code",
   "execution_count": 51,
   "metadata": {},
   "outputs": [
    {
     "output_type": "execute_result",
     "data": {
      "text/plain": [
       "Labrador Retriever    1652\n",
       "Mixed Breed            909\n",
       "Shepherd               622\n",
       "Pit Bull Terrier       606\n",
       "Terrier                544\n",
       "                      ... \n",
       "Pharaoh Hound            1\n",
       "Mountain Dog             1\n",
       "Goldendoodle             1\n",
       "Toy Fox Terrier          1\n",
       "Neapolitan Mastiff       1\n",
       "Name: 1, Length: 171, dtype: int64"
      ]
     },
     "metadata": {},
     "execution_count": 51
    }
   ],
   "source": [
    "pd.DataFrame(puppy_pics)[1].value_counts()"
   ]
  },
  {
   "cell_type": "code",
   "execution_count": 54,
   "metadata": {},
   "outputs": [],
   "source": [
    "downloaded_images_id = set()\n",
    "def downloader(pet_id, filename, image_url):\n",
    "    pet_id = filename.split('\\\\')[1].split('_')[0]\n",
    "    if pet_id not in downloaded_images_id:\n",
    "        # full_file_name = filename + '.jpg'\n",
    "        downloaded_images_id.add(pet_id)\n",
    "        try:\n",
    "            urllib.request.urlretrieve(image_url,full_file_name)\n",
    "        except (HTTPError, OSError):\n",
    "            return"
   ]
  },
  {
   "cell_type": "code",
   "execution_count": 81,
   "metadata": {},
   "outputs": [
    {
     "output_type": "error",
     "ename": "NameError",
     "evalue": "name 'expert_ds_loc' is not defined",
     "traceback": [
      "\u001b[0;31m---------------------------------------------------------------------------\u001b[0m",
      "\u001b[0;31mNameError\u001b[0m                                 Traceback (most recent call last)",
      "\u001b[0;32m<ipython-input-81-5bb47f48c875>\u001b[0m in \u001b[0;36m<module>\u001b[0;34m\u001b[0m\n\u001b[0;32m----> 1\u001b[0;31m \u001b[0mexpert_senior_imgs\u001b[0m \u001b[0;34m=\u001b[0m \u001b[0;34m[\u001b[0m\u001b[0mfn\u001b[0m \u001b[0;32mfor\u001b[0m \u001b[0mfn\u001b[0m \u001b[0;32min\u001b[0m \u001b[0mos\u001b[0m\u001b[0;34m.\u001b[0m\u001b[0mlistdir\u001b[0m\u001b[0;34m(\u001b[0m\u001b[0;34mf'{expert_ds_loc}/Senior'\u001b[0m\u001b[0;34m)\u001b[0m \u001b[0;32mif\u001b[0m \u001b[0mfn\u001b[0m\u001b[0;34m.\u001b[0m\u001b[0mendswith\u001b[0m\u001b[0;34m(\u001b[0m\u001b[0;34m'.jpg'\u001b[0m\u001b[0;34m)\u001b[0m \u001b[0;32mor\u001b[0m \u001b[0mfn\u001b[0m\u001b[0;34m.\u001b[0m\u001b[0mendswith\u001b[0m\u001b[0;34m(\u001b[0m\u001b[0;34m'.png'\u001b[0m\u001b[0;34m)\u001b[0m\u001b[0;34m]\u001b[0m\u001b[0;34m\u001b[0m\u001b[0;34m\u001b[0m\u001b[0m\n\u001b[0m",
      "\u001b[0;31mNameError\u001b[0m: name 'expert_ds_loc' is not defined"
     ]
    }
   ],
   "source": [
    "expert_senior_imgs = [fn for fn in os.listdir(f'{expert_ds_loc}/Senior') if fn.endswith('.jpg') or fn.endswith('.png')]"
   ]
  },
  {
   "cell_type": "code",
   "execution_count": null,
   "metadata": {},
   "outputs": [],
   "source": []
  }
 ]
}