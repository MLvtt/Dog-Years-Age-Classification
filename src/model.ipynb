{
 "metadata": {
  "language_info": {
   "codemirror_mode": {
    "name": "ipython",
    "version": 3
   },
   "file_extension": ".py",
   "mimetype": "text/x-python",
   "name": "python",
   "nbconvert_exporter": "python",
   "pygments_lexer": "ipython3",
   "version": "3.8.2"
  },
  "orig_nbformat": 4,
  "kernelspec": {
   "name": "python3",
   "display_name": "Python 3.8.2 64-bit ('base': conda)"
  },
  "interpreter": {
   "hash": "f6bdf78043db99d935f40f61a24bf6e40a19bb6491673070e840ece9dc443399"
  }
 },
 "nbformat": 4,
 "nbformat_minor": 2,
 "cells": [
  {
   "cell_type": "code",
   "execution_count": 19,
   "source": [
    "import os\n",
    "import pandas as pd\n",
    "import numpy as np\n",
    "import matplotlib\n",
    "import matplotlib.pyplot as plt\n",
    "matplotlib.style.use('ggplot')\n",
    "%matplotlib inline\n",
    "\n",
    "import tensorflow as tf\n",
    "from tensorflow import keras\n",
    "from tensorflow.keras import layers\n",
    "from tensorflow.keras.preprocessing.image import ImageDataGenerator, array_to_img, img_to_array, load_img\n",
    "\n",
    "\n",
    "\n"
   ],
   "outputs": [],
   "metadata": {}
  },
  {
   "cell_type": "code",
   "execution_count": 20,
   "source": [
    "def get_file_paths(path):\n",
    "    '''\n",
    "    Takes a folder path and returns a set of all file paths of .jpg in the folders\n",
    "    Input: Folder path\n",
    "    '''\n",
    "    file_set = set()\n",
    "\n",
    "    for direct, _, files in os.walk(path):\n",
    "        for file_name in files:\n",
    "            rel_dir = os.path.relpath(direct, path)\n",
    "            rel_file = os.path.join(rel_dir, file_name)\n",
    "            if '.jpg' not in rel_file:\n",
    "                continue\n",
    "            file_set.add(str(path)+rel_file)\n",
    "\n",
    "    return file_set\n",
    "\n",
    "def one_hotify(y, n_classes=None):\n",
    "    '''Convert array of integers to one-hot format;\n",
    "    The new dimension is added at the end.'''\n",
    "    if n_classes is None:\n",
    "        n_classes = max(y) + 1\n",
    "    labels = np.arange(n_classes)\n",
    "    y = y[..., None]\n",
    "    return (y == labels).astype(int)\n",
    "\n",
    "def load_images(path,size=(256,256),target='not'):\n",
    "    \n",
    "    file_paths = get_file_paths(path)\n",
    "    \n",
    "    images = []\n",
    "    y = []\n",
    "    for file in file_paths:\n",
    "        img = keras.preprocessing.image.load_img(file, target_size=size)\n",
    "        img_arr = keras.preprocessing.image.img_to_array(img)\n",
    "        images.append(img_arr)\n",
    "        if target in file.split('/')[-2]:\n",
    "            y.append(1)\n",
    "        else:\n",
    "            y.append(0)\n",
    "        \n",
    "    return images, pd.get_dummies(y)"
   ],
   "outputs": [],
   "metadata": {}
  },
  {
   "cell_type": "code",
   "execution_count": 21,
   "source": [
    "# X2, y2 = load_images(('../data/Train_Val_Test/CASO/train/'))\n",
    "# X2 = np.array(X2)\n",
    "print(2)\n",
    "X3, y3 = load_images('../data/Train_Val_Test/CASO/val/')\n",
    "X3 = np.array(X3)\n",
    "print(3)\n",
    "X, y = load_images('../data/Train_Val_Test/CASO/test/')\n",
    "X = np.array(X)"
   ],
   "outputs": [
    {
     "output_type": "stream",
     "name": "stdout",
     "text": [
      "2\n",
      "3\n"
     ]
    }
   ],
   "metadata": {}
  },
  {
   "cell_type": "code",
   "execution_count": 22,
   "source": [
    "img_width = 256\n",
    "img_height = 256\n",
    "batch_size = 64\n",
    "\n",
    "# this is the augmentation configuration we will use for training\n",
    "train_datagen = keras.preprocessing.image.ImageDataGenerator(\n",
    "    rescale=1. / 255,\n",
    "    shear_range=0.1,\n",
    "    zoom_range=0.1,\n",
    "    horizontal_flip=True)\n",
    "\n",
    "# this is the augmentation configuration we will use for testing:\n",
    "# only rescaling (we do not want to modify the testing data)\n",
    "test_datagen = keras.preprocessing.image.ImageDataGenerator(rescale=1. / 255)\n",
    "\n",
    "\n",
    "# The generator object. \n",
    "train_generator = train_datagen.flow_from_directory(\n",
    "    '../data/Train_Val_Test/CASO/train/',\n",
    "    target_size=(img_width, img_height),\n",
    "    batch_size=batch_size,\n",
    "    class_mode='categorical')\n",
    "\n",
    "validation_generator = test_datagen.flow_from_directory(\n",
    "    '../data/Train_Val_Test/CASO/val/',\n",
    "    target_size=(img_width, img_height),\n",
    "    batch_size=batch_size,\n",
    "    class_mode='categorical')"
   ],
   "outputs": [
    {
     "output_type": "stream",
     "name": "stdout",
     "text": [
      "Found 14544 images belonging to 2 classes.\n",
      "Found 2726 images belonging to 2 classes.\n"
     ]
    }
   ],
   "metadata": {}
  },
  {
   "cell_type": "code",
   "execution_count": 23,
   "source": [
    "img_width, img_height = 256, 256\n",
    "\n",
    "nb_train_samples = 14550\n",
    "nb_validation_samples = 2750\n",
    "epochs = 5\n",
    "batch_size = 32\n",
    "nb_train_samples // batch_size, nb_validation_samples // batch_size"
   ],
   "outputs": [
    {
     "output_type": "execute_result",
     "data": {
      "text/plain": [
       "(454, 85)"
      ]
     },
     "metadata": {},
     "execution_count": 23
    }
   ],
   "metadata": {}
  },
  {
   "cell_type": "code",
   "execution_count": 53,
   "source": [
    "model = keras.models.Sequential()\n",
    "model.add(keras.layers.Conv2D(32, (3, 3), activation='relu', input_shape=(256, 256, 3)))\n",
    "model.add(keras.layers.MaxPooling2D(pool_size=(2, 2)))\n",
    "\n",
    "model.add(keras.layers.Conv2D(32, (3, 3), activation='relu'))\n",
    "model.add(keras.layers.MaxPooling2D(pool_size=(2, 2)))\n",
    "\n",
    "model.add(keras.layers.Conv2D(64, (3, 3), activation='relu'))\n",
    "model.add(keras.layers.MaxPooling2D(pool_size=(2, 2)))\n",
    "\n",
    "model.add(keras.layers.Flatten())\n",
    "model.add(keras.layers.Dense(64, activation='relu'))\n",
    "model.add(keras.layers.Dropout(0.5))\n",
    "model.add(keras.layers.Dense(2,\n",
    "                activation='softmax',\n",
    "                kernel_regularizer=keras.regularizers.l2(0.01)))"
   ],
   "outputs": [],
   "metadata": {}
  },
  {
   "cell_type": "code",
   "execution_count": 77,
   "source": [
    "model.compile(optimizer='SGD',\n",
    "              loss='categorical_crossentropy',\n",
    "              )               metrics=['accuracy'])"
   ],
   "outputs": [],
   "metadata": {}
  },
  {
   "cell_type": "code",
   "execution_count": 78,
   "source": [
    "m = model.fit_generator(\n",
    "        train_generator,\n",
    "        steps_per_epoch=25,\n",
    "        epochs=epochs,\n",
    "        validation_data=validation_generator,\n",
    "        validation_steps=15)"
   ],
   "outputs": [
    {
     "output_type": "stream",
     "name": "stdout",
     "text": [
      "Epoch 1/5\n",
      "25/25 [==============================] - 182s 7s/step - loss: 0.4797 - accuracy: 0.8256 - val_loss: 0.4759 - val_accuracy: 0.8385\n",
      "Epoch 2/5\n",
      "25/25 [==============================] - 178s 7s/step - loss: 0.4695 - accuracy: 0.8375 - val_loss: 0.4541 - val_accuracy: 0.8490\n",
      "Epoch 3/5\n",
      "25/25 [==============================] - 194s 8s/step - loss: 0.4645 - accuracy: 0.8388 - val_loss: 0.4403 - val_accuracy: 0.8458\n",
      "Epoch 4/5\n",
      "25/25 [==============================] - 195s 8s/step - loss: 0.4594 - accuracy: 0.8363 - val_loss: 0.4450 - val_accuracy: 0.8500\n",
      "Epoch 5/5\n",
      "25/25 [==============================] - 187s 8s/step - loss: 0.4378 - accuracy: 0.8531 - val_loss: 0.4454 - val_accuracy: 0.8458\n"
     ]
    }
   ],
   "metadata": {}
  },
  {
   "cell_type": "code",
   "execution_count": 74,
   "source": [
    "base_model = keras.applications.Xception(\n",
    "    weights='imagenet',\n",
    "    include_top=False,\n",
    "    pooling='avg')"
   ],
   "outputs": [],
   "metadata": {}
  },
  {
   "cell_type": "code",
   "execution_count": 75,
   "source": [
    "base_model.trainable = False"
   ],
   "outputs": [],
   "metadata": {}
  },
  {
   "cell_type": "code",
   "execution_count": 76,
   "source": [
    "model = keras.Sequential([\n",
    "    base_model,\n",
    "    layers.Dense(100),\n",
    "    layers.Dense(2,\n",
    "                activation='softmax',\n",
    "                kernel_regularizer=keras.regularizers.l2(0.01))\n",
    "])"
   ],
   "outputs": [],
   "metadata": {}
  },
  {
   "cell_type": "code",
   "execution_count": 72,
   "source": [
    "model.summary()"
   ],
   "outputs": [
    {
     "output_type": "stream",
     "name": "stdout",
     "text": [
      "Model: \"sequential_8\"\n",
      "_________________________________________________________________\n",
      "Layer (type)                 Output Shape              Param #   \n",
      "=================================================================\n",
      "xception (Functional)        (None, 2048)              20861480  \n",
      "_________________________________________________________________\n",
      "dense_15 (Dense)             (None, 100)               204900    \n",
      "_________________________________________________________________\n",
      "dense_16 (Dense)             (None, 2)                 202       \n",
      "=================================================================\n",
      "Total params: 21,066,582\n",
      "Trainable params: 205,102\n",
      "Non-trainable params: 20,861,480\n",
      "_________________________________________________________________\n"
     ]
    }
   ],
   "metadata": {}
  },
  {
   "cell_type": "code",
   "execution_count": null,
   "source": [],
   "outputs": [],
   "metadata": {}
  }
 ]
}